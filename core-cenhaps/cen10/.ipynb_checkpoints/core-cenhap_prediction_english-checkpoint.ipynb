{
 "cells": [
  {
   "cell_type": "code",
   "execution_count": 1,
   "id": "f05c97ab",
   "metadata": {},
   "outputs": [],
   "source": [
    "# Required imports\n",
    "import pandas as pd\n",
    "import numpy as np\n",
    "from sklearn.model_selection import train_test_split\n",
    "from sklearn.multioutput import MultiOutputClassifier\n",
    "from sklearn.ensemble import RandomForestClassifier\n",
    "from sklearn.preprocessing import MultiLabelBinarizer\n",
    "from sklearn.metrics import accuracy_score\n",
    "import joblib"
   ]
  },
  {
   "cell_type": "markdown",
   "id": "2e62e6db",
   "metadata": {},
   "source": [
    "# Load and preprocess training data"
   ]
  },
  {
   "cell_type": "code",
   "execution_count": 2,
   "id": "d9dbb668",
   "metadata": {},
   "outputs": [],
   "source": [
    "# Load raw k-mer counts\n",
    "raw_counts = pd.read_csv('modern_counts.tsv', sep='\\t').set_index('id')\n",
    "\n",
    "# Normalize by cen10h1 + cen10h2\n",
    "norm_counts = raw_counts.div(raw_counts['cen10h1'] + raw_counts['cen10h2'], axis=0)"
   ]
  },
  {
   "cell_type": "code",
   "execution_count": 5,
   "id": "b1bc9e9a",
   "metadata": {},
   "outputs": [
    {
     "name": "stderr",
     "output_type": "stream",
     "text": [
      "/home/fedor/.local/lib/python3.12/site-packages/sklearn/preprocessing/_label.py:900: UserWarning: unknown class(es) [1, 10, 11, 12, 13, 2, 3, 4, 5, 6, 7, 8, 9] will be ignored\n",
      "  warnings.warn(\n"
     ]
    }
   ],
   "source": [
    "# Encode haplotype targets and split the dataset\n",
    "flank_cenhaps = pd.read_csv('flank-cenhaps.tsv', sep='\\t').set_index('id')\n",
    "hap_classes = [str(i) for i in range(1, 14)]\n",
    "\n",
    "# Keep only samples with haplotype assignments\n",
    "norm_counts = norm_counts.loc[flank_cenhaps.index]\n",
    "\n",
    "mlb = MultiLabelBinarizer(classes=hap_classes)\n",
    "Y = mlb.fit_transform(flank_cenhaps.values)\n",
    "X = norm_counts.values\n",
    "\n",
    "X_train, X_test, y_train, y_test, idx_train, idx_test = train_test_split(\n",
    "    X, Y, norm_counts.index, test_size=0.2, random_state=42, stratify=Y.sum(axis=1)\n",
    ")"
   ]
  },
  {
   "cell_type": "markdown",
   "id": "5a093676",
   "metadata": {},
   "source": [
    "# Train model"
   ]
  },
  {
   "cell_type": "code",
   "execution_count": 6,
   "id": "c00f8232",
   "metadata": {},
   "outputs": [
    {
     "name": "stdout",
     "output_type": "stream",
     "text": [
      "Test accuracy: 1.0\n"
     ]
    }
   ],
   "source": [
    "model = MultiOutputClassifier(\n",
    "    RandomForestClassifier(max_depth=6, n_estimators=100, random_state=42)\n",
    ")\n",
    "model.fit(X_train, y_train)\n",
    "\n",
    "# Evaluate accuracy\n",
    "y_pred = model.predict(X_test)\n",
    "print(\"Test accuracy:\", accuracy_score(y_test, y_pred))"
   ]
  },
  {
   "cell_type": "code",
   "execution_count": 8,
   "id": "09665cc4-2324-453a-8bd7-c1996ccf693b",
   "metadata": {},
   "outputs": [
    {
     "data": {
      "text/plain": [
       "array([0, 0, 0, 0, 0, 0, 0, 0, 0, 0, 0, 0, 0])"
      ]
     },
     "execution_count": 8,
     "metadata": {},
     "output_type": "execute_result"
    }
   ],
   "source": [
    "y_train[0]"
   ]
  },
  {
   "cell_type": "markdown",
   "id": "2bf892b8",
   "metadata": {},
   "source": [
    "# Save trained model"
   ]
  },
  {
   "cell_type": "code",
   "execution_count": null,
   "id": "4f36cffe",
   "metadata": {},
   "outputs": [],
   "source": [
    "joblib.dump(model, 'core_cenhap_model.pkl')\n",
    "joblib.dump(mlb, 'core_cenhap_mlb.pkl')"
   ]
  },
  {
   "cell_type": "markdown",
   "id": "5e8c9a6b",
   "metadata": {},
   "source": [
    "# Prediction function with probability support"
   ]
  },
  {
   "cell_type": "code",
   "execution_count": null,
   "id": "eaa28945",
   "metadata": {},
   "outputs": [],
   "source": [
    "def predict_core_cenhap(path_to_counts_file, model_path='core_cenhap_model.pkl', mlb_path='core_cenhap_mlb.pkl'):\n",
    "    \"\"\"\n",
    "    Predict cenhap haplotypes and their probabilities from input k-mer counts.\n",
    "\n",
    "    Parameters:\n",
    "        path_to_counts_file (str): Path to input TSV file with k-mer counts.\n",
    "        model_path (str): Path to trained model.\n",
    "        mlb_path (str): Path to MultiLabelBinarizer.\n",
    "\n",
    "    Returns:\n",
    "        pd.DataFrame: DataFrame with predicted haplotypes and probabilities.\n",
    "    \"\"\"\n",
    "    model = joblib.load(model_path)\n",
    "    mlb = joblib.load(mlb_path)\n",
    "\n",
    "    df = pd.read_csv(path_to_counts_file, sep='\\t').set_index('id')\n",
    "    df_norm = df.div(df['cen10h1'] + df['cen10h2'], axis=0)\n",
    "\n",
    "    # Ensure same features as training\n",
    "    X_new = df_norm[norm_counts.columns].values\n",
    "\n",
    "    # Predict labels and probabilities\n",
    "    y_pred = model.predict(X_new)\n",
    "    y_proba = model.predict_proba(X_new)\n",
    "\n",
    "    # Convert predicted classes\n",
    "    pred_labels = mlb.inverse_transform(y_pred)\n",
    "    df['core_cenhaps'] = [','.join(sorted(haps)) for haps in pred_labels]\n",
    "\n",
    "    # Store probability as max average confidence\n",
    "    df['core_cenhaps_prob'] = [np.mean([max(p) for p in probs]) for probs in zip(*y_proba)]\n",
    "\n",
    "    return df"
   ]
  },
  {
   "cell_type": "markdown",
   "id": "ed920dd5",
   "metadata": {},
   "source": [
    "# Run prediction on new data"
   ]
  },
  {
   "cell_type": "code",
   "execution_count": null,
   "id": "6ea0379c",
   "metadata": {},
   "outputs": [],
   "source": [
    "# Example usage\n",
    "df_predictions = predict_core_cenhap('archaic_counts.tsv')\n",
    "df_predictions.to_csv('archaic_core-cenhaps_with_probs.tsv', sep='\\t')"
   ]
  }
 ],
 "metadata": {
  "kernelspec": {
   "display_name": "Python 3 (ipykernel)",
   "language": "python",
   "name": "python3"
  },
  "language_info": {
   "codemirror_mode": {
    "name": "ipython",
    "version": 3
   },
   "file_extension": ".py",
   "mimetype": "text/x-python",
   "name": "python",
   "nbconvert_exporter": "python",
   "pygments_lexer": "ipython3",
   "version": "3.12.7"
  }
 },
 "nbformat": 4,
 "nbformat_minor": 5
}
