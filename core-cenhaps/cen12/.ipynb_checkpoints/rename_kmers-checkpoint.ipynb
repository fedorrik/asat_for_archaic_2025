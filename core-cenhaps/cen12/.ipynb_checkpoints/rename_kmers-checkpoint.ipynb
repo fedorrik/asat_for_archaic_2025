{
 "cells": [
  {
   "cell_type": "code",
   "execution_count": 30,
   "id": "66911128-3a3f-4e74-ad12-5603c107b28e",
   "metadata": {},
   "outputs": [],
   "source": [
    "import pandas as pd"
   ]
  },
  {
   "cell_type": "code",
   "execution_count": 37,
   "id": "a5cb84a9-091a-4159-9ed8-185ba7760143",
   "metadata": {},
   "outputs": [],
   "source": [
    "modern_counts = pd.read_csv('modern_counts.tsv', sep='\\t').set_index('id')\n",
    "archaic_counts = pd.read_csv('archaic_counts.tsv', sep='\\t').set_index('id')\n",
    "renamer = pd.read_csv('kmer_renamer', sep='\\t')\n",
    "rename_dict = dict(zip(renamer['old_name'], renamer['name']))"
   ]
  },
  {
   "cell_type": "code",
   "execution_count": 38,
   "id": "2e86d6c3-2ea6-45c1-9f0f-a8b331bcefe2",
   "metadata": {},
   "outputs": [],
   "source": [
    "archaic_counts = archaic_counts.rename(columns=rename_dict).astype(int)\n",
    "archaic_counts.to_csv('archaic_counts.tsv', sep='\\t')"
   ]
  },
  {
   "cell_type": "code",
   "execution_count": 39,
   "id": "b226bc99-6483-435f-b836-0c87dd3fc7f4",
   "metadata": {},
   "outputs": [
    {
     "data": {
      "text/plain": [
       "['cen12_h1a',\n",
       " 'cen12_h1ab',\n",
       " 'cen12h1',\n",
       " 'cen12h2',\n",
       " 'ch1',\n",
       " 'ch2a',\n",
       " 'ch2b',\n",
       " 'ch2b-2',\n",
       " 'ch2c',\n",
       " 'ch3',\n",
       " 'ch3-2',\n",
       " 'ch4',\n",
       " 'ch4-2',\n",
       " 'ch5',\n",
       " 'ch5-2',\n",
       " 'ch6',\n",
       " 'ch7',\n",
       " 'ch7-2',\n",
       " 'ch7-3',\n",
       " 'ch8']"
      ]
     },
     "execution_count": 39,
     "metadata": {},
     "output_type": "execute_result"
    }
   ],
   "source": [
    "sorted(archaic_counts.columns)"
   ]
  },
  {
   "cell_type": "code",
   "execution_count": 40,
   "id": "0820661d-cfc2-45a5-88c1-b3e416e4ad79",
   "metadata": {},
   "outputs": [
    {
     "data": {
      "text/plain": [
       "['cen12_h1a',\n",
       " 'cen12_h1ab',\n",
       " 'cen12h1',\n",
       " 'cen12h2',\n",
       " 'ch1',\n",
       " 'ch1-2',\n",
       " 'ch2a',\n",
       " 'ch2b',\n",
       " 'ch2b-2',\n",
       " 'ch2c',\n",
       " 'ch3',\n",
       " 'ch3-2',\n",
       " 'ch4',\n",
       " 'ch4-2',\n",
       " 'ch5',\n",
       " 'ch5-2',\n",
       " 'ch6',\n",
       " 'ch7',\n",
       " 'ch7-2',\n",
       " 'ch7-3',\n",
       " 'ch8']"
      ]
     },
     "execution_count": 40,
     "metadata": {},
     "output_type": "execute_result"
    }
   ],
   "source": [
    "modern_counts = modern_counts.rename(columns=rename_dict).apply(pd.to_numeric, errors='coerce').astype('Int64')\n",
    "modern_counts.to_csv('modern_counts.tsv', sep='\\t')\n",
    "sorted(modern_counts.columns)"
   ]
  }
 ],
 "metadata": {
  "kernelspec": {
   "display_name": "Python 3 (ipykernel)",
   "language": "python",
   "name": "python3"
  },
  "language_info": {
   "codemirror_mode": {
    "name": "ipython",
    "version": 3
   },
   "file_extension": ".py",
   "mimetype": "text/x-python",
   "name": "python",
   "nbconvert_exporter": "python",
   "pygments_lexer": "ipython3",
   "version": "3.12.7"
  }
 },
 "nbformat": 4,
 "nbformat_minor": 5
}
